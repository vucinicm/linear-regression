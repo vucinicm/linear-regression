{
 "cells": [
  {
   "cell_type": "markdown",
   "source": [
    "## Importing libraries"
   ],
   "metadata": {
    "collapsed": false,
    "pycharm": {
     "name": "#%% md\n"
    }
   }
  },
  {
   "cell_type": "code",
   "execution_count": 3,
   "outputs": [],
   "source": [
    "import numpy as np\n",
    "import pandas as pd\n",
    "import matplotlib.pyplot as plt\n",
    "from sklearn.metrics import mean_absolute_error, mean_squared_error\n",
    "from sklearn.preprocessing import StandardScaler, OneHotEncoder\n",
    "from sklearn.model_selection import train_test_split"
   ],
   "metadata": {
    "collapsed": false,
    "pycharm": {
     "name": "#%%\n"
    }
   }
  },
  {
   "cell_type": "markdown",
   "source": [
    "## 1. Reading input data"
   ],
   "metadata": {
    "collapsed": false,
    "pycharm": {
     "name": "#%% md\n"
    }
   }
  },
  {
   "cell_type": "code",
   "execution_count": 4,
   "outputs": [
    {
     "data": {
      "text/plain": "      MODELYEAR   MAKE       MODEL    VEHICLECLASS  ENGINESIZE  CYLINDERS  \\\n0          2014  ACURA         ILX         COMPACT         2.0          4   \n1          2014  ACURA         ILX         COMPACT         2.4          4   \n2          2014  ACURA  ILX HYBRID         COMPACT         1.5          4   \n3          2014  ACURA     MDX 4WD     SUV - SMALL         3.5          6   \n4          2014  ACURA     RDX AWD     SUV - SMALL         3.5          6   \n...         ...    ...         ...             ...         ...        ...   \n1062       2014  VOLVO    XC60 AWD     SUV - SMALL         3.0          6   \n1063       2014  VOLVO    XC60 AWD     SUV - SMALL         3.2          6   \n1064       2014  VOLVO    XC70 AWD     SUV - SMALL         3.0          6   \n1065       2014  VOLVO    XC70 AWD     SUV - SMALL         3.2          6   \n1066       2014  VOLVO    XC90 AWD  SUV - STANDARD         3.2          6   \n\n     TRANSMISSION FUELTYPE  FUELCONSUMPTION_CITY  FUELCONSUMPTION_HWY  \\\n0             AS5        Z                   9.9                  6.7   \n1              M6        Z                  11.2                  7.7   \n2             AV7        Z                   6.0                  5.8   \n3             AS6        Z                  12.7                  9.1   \n4             AS6        Z                  12.1                  8.7   \n...           ...      ...                   ...                  ...   \n1062          AS6        X                  13.4                  9.8   \n1063          AS6      NaN                  13.2                  9.5   \n1064          AS6        X                  13.4                  9.8   \n1065          AS6        X                  12.9                  9.3   \n1066          AS6        X                  14.9                 10.2   \n\n      FUELCONSUMPTION_COMB  FUELCONSUMPTION_COMB_MPG  CO2EMISSIONS  \n0                      8.5                        33           196  \n1                      9.6                        29           221  \n2                      5.9                        48           136  \n3                     11.1                        25           255  \n4                     10.6                        27           244  \n...                    ...                       ...           ...  \n1062                  11.8                        24           271  \n1063                  11.5                        25           264  \n1064                  11.8                        24           271  \n1065                  11.3                        25           260  \n1066                  12.8                        22           294  \n\n[1067 rows x 13 columns]",
      "text/html": "<div>\n<style scoped>\n    .dataframe tbody tr th:only-of-type {\n        vertical-align: middle;\n    }\n\n    .dataframe tbody tr th {\n        vertical-align: top;\n    }\n\n    .dataframe thead th {\n        text-align: right;\n    }\n</style>\n<table border=\"1\" class=\"dataframe\">\n  <thead>\n    <tr style=\"text-align: right;\">\n      <th></th>\n      <th>MODELYEAR</th>\n      <th>MAKE</th>\n      <th>MODEL</th>\n      <th>VEHICLECLASS</th>\n      <th>ENGINESIZE</th>\n      <th>CYLINDERS</th>\n      <th>TRANSMISSION</th>\n      <th>FUELTYPE</th>\n      <th>FUELCONSUMPTION_CITY</th>\n      <th>FUELCONSUMPTION_HWY</th>\n      <th>FUELCONSUMPTION_COMB</th>\n      <th>FUELCONSUMPTION_COMB_MPG</th>\n      <th>CO2EMISSIONS</th>\n    </tr>\n  </thead>\n  <tbody>\n    <tr>\n      <th>0</th>\n      <td>2014</td>\n      <td>ACURA</td>\n      <td>ILX</td>\n      <td>COMPACT</td>\n      <td>2.0</td>\n      <td>4</td>\n      <td>AS5</td>\n      <td>Z</td>\n      <td>9.9</td>\n      <td>6.7</td>\n      <td>8.5</td>\n      <td>33</td>\n      <td>196</td>\n    </tr>\n    <tr>\n      <th>1</th>\n      <td>2014</td>\n      <td>ACURA</td>\n      <td>ILX</td>\n      <td>COMPACT</td>\n      <td>2.4</td>\n      <td>4</td>\n      <td>M6</td>\n      <td>Z</td>\n      <td>11.2</td>\n      <td>7.7</td>\n      <td>9.6</td>\n      <td>29</td>\n      <td>221</td>\n    </tr>\n    <tr>\n      <th>2</th>\n      <td>2014</td>\n      <td>ACURA</td>\n      <td>ILX HYBRID</td>\n      <td>COMPACT</td>\n      <td>1.5</td>\n      <td>4</td>\n      <td>AV7</td>\n      <td>Z</td>\n      <td>6.0</td>\n      <td>5.8</td>\n      <td>5.9</td>\n      <td>48</td>\n      <td>136</td>\n    </tr>\n    <tr>\n      <th>3</th>\n      <td>2014</td>\n      <td>ACURA</td>\n      <td>MDX 4WD</td>\n      <td>SUV - SMALL</td>\n      <td>3.5</td>\n      <td>6</td>\n      <td>AS6</td>\n      <td>Z</td>\n      <td>12.7</td>\n      <td>9.1</td>\n      <td>11.1</td>\n      <td>25</td>\n      <td>255</td>\n    </tr>\n    <tr>\n      <th>4</th>\n      <td>2014</td>\n      <td>ACURA</td>\n      <td>RDX AWD</td>\n      <td>SUV - SMALL</td>\n      <td>3.5</td>\n      <td>6</td>\n      <td>AS6</td>\n      <td>Z</td>\n      <td>12.1</td>\n      <td>8.7</td>\n      <td>10.6</td>\n      <td>27</td>\n      <td>244</td>\n    </tr>\n    <tr>\n      <th>...</th>\n      <td>...</td>\n      <td>...</td>\n      <td>...</td>\n      <td>...</td>\n      <td>...</td>\n      <td>...</td>\n      <td>...</td>\n      <td>...</td>\n      <td>...</td>\n      <td>...</td>\n      <td>...</td>\n      <td>...</td>\n      <td>...</td>\n    </tr>\n    <tr>\n      <th>1062</th>\n      <td>2014</td>\n      <td>VOLVO</td>\n      <td>XC60 AWD</td>\n      <td>SUV - SMALL</td>\n      <td>3.0</td>\n      <td>6</td>\n      <td>AS6</td>\n      <td>X</td>\n      <td>13.4</td>\n      <td>9.8</td>\n      <td>11.8</td>\n      <td>24</td>\n      <td>271</td>\n    </tr>\n    <tr>\n      <th>1063</th>\n      <td>2014</td>\n      <td>VOLVO</td>\n      <td>XC60 AWD</td>\n      <td>SUV - SMALL</td>\n      <td>3.2</td>\n      <td>6</td>\n      <td>AS6</td>\n      <td>NaN</td>\n      <td>13.2</td>\n      <td>9.5</td>\n      <td>11.5</td>\n      <td>25</td>\n      <td>264</td>\n    </tr>\n    <tr>\n      <th>1064</th>\n      <td>2014</td>\n      <td>VOLVO</td>\n      <td>XC70 AWD</td>\n      <td>SUV - SMALL</td>\n      <td>3.0</td>\n      <td>6</td>\n      <td>AS6</td>\n      <td>X</td>\n      <td>13.4</td>\n      <td>9.8</td>\n      <td>11.8</td>\n      <td>24</td>\n      <td>271</td>\n    </tr>\n    <tr>\n      <th>1065</th>\n      <td>2014</td>\n      <td>VOLVO</td>\n      <td>XC70 AWD</td>\n      <td>SUV - SMALL</td>\n      <td>3.2</td>\n      <td>6</td>\n      <td>AS6</td>\n      <td>X</td>\n      <td>12.9</td>\n      <td>9.3</td>\n      <td>11.3</td>\n      <td>25</td>\n      <td>260</td>\n    </tr>\n    <tr>\n      <th>1066</th>\n      <td>2014</td>\n      <td>VOLVO</td>\n      <td>XC90 AWD</td>\n      <td>SUV - STANDARD</td>\n      <td>3.2</td>\n      <td>6</td>\n      <td>AS6</td>\n      <td>X</td>\n      <td>14.9</td>\n      <td>10.2</td>\n      <td>12.8</td>\n      <td>22</td>\n      <td>294</td>\n    </tr>\n  </tbody>\n</table>\n<p>1067 rows × 13 columns</p>\n</div>"
     },
     "execution_count": 4,
     "metadata": {},
     "output_type": "execute_result"
    }
   ],
   "source": [
    "data = pd.read_csv(\"../datasets/fuel_consumption.csv\")\n",
    "data"
   ],
   "metadata": {
    "collapsed": false,
    "pycharm": {
     "name": "#%%\n"
    }
   }
  },
  {
   "cell_type": "markdown",
   "source": [
    "## 2. Filling null values"
   ],
   "metadata": {
    "collapsed": false,
    "pycharm": {
     "name": "#%% md\n"
    }
   }
  },
  {
   "cell_type": "code",
   "execution_count": 5,
   "outputs": [],
   "source": [
    "for column in data.columns:\n",
    "    if data[column].isnull().any():\n",
    "        data[column] = data[column].fillna(data[column].mode()[0])  # fill with most common value"
   ],
   "metadata": {
    "collapsed": false,
    "pycharm": {
     "name": "#%%\n"
    }
   }
  },
  {
   "cell_type": "markdown",
   "source": [
    "## 3. Performing One-Hot Encoding on categorical data"
   ],
   "metadata": {
    "collapsed": false,
    "pycharm": {
     "name": "#%% md\n"
    }
   }
  },
  {
   "cell_type": "code",
   "execution_count": 6,
   "outputs": [
    {
     "data": {
      "text/plain": "      ENGINESIZE  CYLINDERS  FUELCONSUMPTION_CITY  FUELCONSUMPTION_HWY  \\\n0            2.0          4                   9.9                  6.7   \n1            2.4          4                  11.2                  7.7   \n2            1.5          4                   6.0                  5.8   \n3            3.5          6                  12.7                  9.1   \n4            3.5          6                  12.1                  8.7   \n...          ...        ...                   ...                  ...   \n1062         3.0          6                  13.4                  9.8   \n1063         3.2          6                  13.2                  9.5   \n1064         3.0          6                  13.4                  9.8   \n1065         3.2          6                  12.9                  9.3   \n1066         3.2          6                  14.9                 10.2   \n\n      FUELCONSUMPTION_COMB  FUELCONSUMPTION_COMB_MPG  CO2EMISSIONS  \\\n0                      8.5                        33           196   \n1                      9.6                        29           221   \n2                      5.9                        48           136   \n3                     11.1                        25           255   \n4                     10.6                        27           244   \n...                    ...                       ...           ...   \n1062                  11.8                        24           271   \n1063                  11.5                        25           264   \n1064                  11.8                        24           271   \n1065                  11.3                        25           260   \n1066                  12.8                        22           294   \n\n      FUELTYPE_D  FUELTYPE_E  FUELTYPE_X  FUELTYPE_Z  \n0            0.0         0.0         0.0         1.0  \n1            0.0         0.0         0.0         1.0  \n2            0.0         0.0         0.0         1.0  \n3            0.0         0.0         0.0         1.0  \n4            0.0         0.0         0.0         1.0  \n...          ...         ...         ...         ...  \n1062         0.0         0.0         1.0         0.0  \n1063         0.0         0.0         1.0         0.0  \n1064         0.0         0.0         1.0         0.0  \n1065         0.0         0.0         1.0         0.0  \n1066         0.0         0.0         1.0         0.0  \n\n[1067 rows x 11 columns]",
      "text/html": "<div>\n<style scoped>\n    .dataframe tbody tr th:only-of-type {\n        vertical-align: middle;\n    }\n\n    .dataframe tbody tr th {\n        vertical-align: top;\n    }\n\n    .dataframe thead th {\n        text-align: right;\n    }\n</style>\n<table border=\"1\" class=\"dataframe\">\n  <thead>\n    <tr style=\"text-align: right;\">\n      <th></th>\n      <th>ENGINESIZE</th>\n      <th>CYLINDERS</th>\n      <th>FUELCONSUMPTION_CITY</th>\n      <th>FUELCONSUMPTION_HWY</th>\n      <th>FUELCONSUMPTION_COMB</th>\n      <th>FUELCONSUMPTION_COMB_MPG</th>\n      <th>CO2EMISSIONS</th>\n      <th>FUELTYPE_D</th>\n      <th>FUELTYPE_E</th>\n      <th>FUELTYPE_X</th>\n      <th>FUELTYPE_Z</th>\n    </tr>\n  </thead>\n  <tbody>\n    <tr>\n      <th>0</th>\n      <td>2.0</td>\n      <td>4</td>\n      <td>9.9</td>\n      <td>6.7</td>\n      <td>8.5</td>\n      <td>33</td>\n      <td>196</td>\n      <td>0.0</td>\n      <td>0.0</td>\n      <td>0.0</td>\n      <td>1.0</td>\n    </tr>\n    <tr>\n      <th>1</th>\n      <td>2.4</td>\n      <td>4</td>\n      <td>11.2</td>\n      <td>7.7</td>\n      <td>9.6</td>\n      <td>29</td>\n      <td>221</td>\n      <td>0.0</td>\n      <td>0.0</td>\n      <td>0.0</td>\n      <td>1.0</td>\n    </tr>\n    <tr>\n      <th>2</th>\n      <td>1.5</td>\n      <td>4</td>\n      <td>6.0</td>\n      <td>5.8</td>\n      <td>5.9</td>\n      <td>48</td>\n      <td>136</td>\n      <td>0.0</td>\n      <td>0.0</td>\n      <td>0.0</td>\n      <td>1.0</td>\n    </tr>\n    <tr>\n      <th>3</th>\n      <td>3.5</td>\n      <td>6</td>\n      <td>12.7</td>\n      <td>9.1</td>\n      <td>11.1</td>\n      <td>25</td>\n      <td>255</td>\n      <td>0.0</td>\n      <td>0.0</td>\n      <td>0.0</td>\n      <td>1.0</td>\n    </tr>\n    <tr>\n      <th>4</th>\n      <td>3.5</td>\n      <td>6</td>\n      <td>12.1</td>\n      <td>8.7</td>\n      <td>10.6</td>\n      <td>27</td>\n      <td>244</td>\n      <td>0.0</td>\n      <td>0.0</td>\n      <td>0.0</td>\n      <td>1.0</td>\n    </tr>\n    <tr>\n      <th>...</th>\n      <td>...</td>\n      <td>...</td>\n      <td>...</td>\n      <td>...</td>\n      <td>...</td>\n      <td>...</td>\n      <td>...</td>\n      <td>...</td>\n      <td>...</td>\n      <td>...</td>\n      <td>...</td>\n    </tr>\n    <tr>\n      <th>1062</th>\n      <td>3.0</td>\n      <td>6</td>\n      <td>13.4</td>\n      <td>9.8</td>\n      <td>11.8</td>\n      <td>24</td>\n      <td>271</td>\n      <td>0.0</td>\n      <td>0.0</td>\n      <td>1.0</td>\n      <td>0.0</td>\n    </tr>\n    <tr>\n      <th>1063</th>\n      <td>3.2</td>\n      <td>6</td>\n      <td>13.2</td>\n      <td>9.5</td>\n      <td>11.5</td>\n      <td>25</td>\n      <td>264</td>\n      <td>0.0</td>\n      <td>0.0</td>\n      <td>1.0</td>\n      <td>0.0</td>\n    </tr>\n    <tr>\n      <th>1064</th>\n      <td>3.0</td>\n      <td>6</td>\n      <td>13.4</td>\n      <td>9.8</td>\n      <td>11.8</td>\n      <td>24</td>\n      <td>271</td>\n      <td>0.0</td>\n      <td>0.0</td>\n      <td>1.0</td>\n      <td>0.0</td>\n    </tr>\n    <tr>\n      <th>1065</th>\n      <td>3.2</td>\n      <td>6</td>\n      <td>12.9</td>\n      <td>9.3</td>\n      <td>11.3</td>\n      <td>25</td>\n      <td>260</td>\n      <td>0.0</td>\n      <td>0.0</td>\n      <td>1.0</td>\n      <td>0.0</td>\n    </tr>\n    <tr>\n      <th>1066</th>\n      <td>3.2</td>\n      <td>6</td>\n      <td>14.9</td>\n      <td>10.2</td>\n      <td>12.8</td>\n      <td>22</td>\n      <td>294</td>\n      <td>0.0</td>\n      <td>0.0</td>\n      <td>1.0</td>\n      <td>0.0</td>\n    </tr>\n  </tbody>\n</table>\n<p>1067 rows × 11 columns</p>\n</div>"
     },
     "execution_count": 6,
     "metadata": {},
     "output_type": "execute_result"
    }
   ],
   "source": [
    "data.drop(columns=['MODELYEAR', 'MAKE', 'MODEL', 'VEHICLECLASS', 'TRANSMISSION'], inplace=True)\n",
    "\n",
    "categorical_input_parameters = [\n",
    "    'FUELTYPE'\n",
    "]\n",
    "\n",
    "output_parameter = 'CO2EMISSIONS'\n",
    "\n",
    "for column in categorical_input_parameters:\n",
    "    ohe = OneHotEncoder(sparse_output=False)\n",
    "    transformed = ohe.fit_transform(data[column].to_numpy().reshape(-1, 1))\n",
    "    labels = ohe.get_feature_names_out([column])\n",
    "    data.drop(columns=[column], inplace=True)\n",
    "    data = data.join(pd.DataFrame(data=transformed, columns=labels))\n",
    "\n",
    "data"
   ],
   "metadata": {
    "collapsed": false,
    "pycharm": {
     "name": "#%%\n"
    }
   }
  },
  {
   "cell_type": "markdown",
   "source": [
    "## 4. Scaling input data and removing not important features"
   ],
   "metadata": {
    "collapsed": false,
    "pycharm": {
     "name": "#%% md\n"
    }
   }
  },
  {
   "cell_type": "code",
   "execution_count": 7,
   "outputs": [
    {
     "data": {
      "text/plain": "      ENGINESIZE  CYLINDERS  FUELCONSUMPTION_CITY  FUELCONSUMPTION_COMB_MPG  \\\n0      -0.947967  -0.998969             -0.828558                  0.878553   \n1      -0.665489  -0.998969             -0.511433                  0.342734   \n2      -1.301063  -0.998969             -1.779932                  2.887876   \n3       0.111323   0.114242             -0.145519                 -0.193086   \n4       0.111323   0.114242             -0.291885                  0.074824   \n...          ...        ...                   ...                       ...   \n1062   -0.241774   0.114242              0.025240                 -0.327041   \n1063   -0.100535   0.114242             -0.023548                 -0.193086   \n1064   -0.241774   0.114242              0.025240                 -0.327041   \n1065   -0.100535   0.114242             -0.096731                 -0.193086   \n1066   -0.100535   0.114242              0.391153                 -0.594950   \n\n      CO2EMISSIONS  FUELTYPE_D  FUELTYPE_E  FUELTYPE_X  FUELTYPE_Z  \n0        -0.950840   -0.161126   -0.307179   -0.964093    1.207694  \n1        -0.556161   -0.161126   -0.307179   -0.964093    1.207694  \n2        -1.898070   -0.161126   -0.307179   -0.964093    1.207694  \n3        -0.019397   -0.161126   -0.307179   -0.964093    1.207694  \n4        -0.193056   -0.161126   -0.307179   -0.964093    1.207694  \n...            ...         ...         ...         ...         ...  \n1062      0.233197   -0.161126   -0.307179    1.037244   -0.828024  \n1063      0.122687   -0.161126   -0.307179    1.037244   -0.828024  \n1064      0.233197   -0.161126   -0.307179    1.037244   -0.828024  \n1065      0.059538   -0.161126   -0.307179    1.037244   -0.828024  \n1066      0.596302   -0.161126   -0.307179    1.037244   -0.828024  \n\n[1067 rows x 9 columns]",
      "text/html": "<div>\n<style scoped>\n    .dataframe tbody tr th:only-of-type {\n        vertical-align: middle;\n    }\n\n    .dataframe tbody tr th {\n        vertical-align: top;\n    }\n\n    .dataframe thead th {\n        text-align: right;\n    }\n</style>\n<table border=\"1\" class=\"dataframe\">\n  <thead>\n    <tr style=\"text-align: right;\">\n      <th></th>\n      <th>ENGINESIZE</th>\n      <th>CYLINDERS</th>\n      <th>FUELCONSUMPTION_CITY</th>\n      <th>FUELCONSUMPTION_COMB_MPG</th>\n      <th>CO2EMISSIONS</th>\n      <th>FUELTYPE_D</th>\n      <th>FUELTYPE_E</th>\n      <th>FUELTYPE_X</th>\n      <th>FUELTYPE_Z</th>\n    </tr>\n  </thead>\n  <tbody>\n    <tr>\n      <th>0</th>\n      <td>-0.947967</td>\n      <td>-0.998969</td>\n      <td>-0.828558</td>\n      <td>0.878553</td>\n      <td>-0.950840</td>\n      <td>-0.161126</td>\n      <td>-0.307179</td>\n      <td>-0.964093</td>\n      <td>1.207694</td>\n    </tr>\n    <tr>\n      <th>1</th>\n      <td>-0.665489</td>\n      <td>-0.998969</td>\n      <td>-0.511433</td>\n      <td>0.342734</td>\n      <td>-0.556161</td>\n      <td>-0.161126</td>\n      <td>-0.307179</td>\n      <td>-0.964093</td>\n      <td>1.207694</td>\n    </tr>\n    <tr>\n      <th>2</th>\n      <td>-1.301063</td>\n      <td>-0.998969</td>\n      <td>-1.779932</td>\n      <td>2.887876</td>\n      <td>-1.898070</td>\n      <td>-0.161126</td>\n      <td>-0.307179</td>\n      <td>-0.964093</td>\n      <td>1.207694</td>\n    </tr>\n    <tr>\n      <th>3</th>\n      <td>0.111323</td>\n      <td>0.114242</td>\n      <td>-0.145519</td>\n      <td>-0.193086</td>\n      <td>-0.019397</td>\n      <td>-0.161126</td>\n      <td>-0.307179</td>\n      <td>-0.964093</td>\n      <td>1.207694</td>\n    </tr>\n    <tr>\n      <th>4</th>\n      <td>0.111323</td>\n      <td>0.114242</td>\n      <td>-0.291885</td>\n      <td>0.074824</td>\n      <td>-0.193056</td>\n      <td>-0.161126</td>\n      <td>-0.307179</td>\n      <td>-0.964093</td>\n      <td>1.207694</td>\n    </tr>\n    <tr>\n      <th>...</th>\n      <td>...</td>\n      <td>...</td>\n      <td>...</td>\n      <td>...</td>\n      <td>...</td>\n      <td>...</td>\n      <td>...</td>\n      <td>...</td>\n      <td>...</td>\n    </tr>\n    <tr>\n      <th>1062</th>\n      <td>-0.241774</td>\n      <td>0.114242</td>\n      <td>0.025240</td>\n      <td>-0.327041</td>\n      <td>0.233197</td>\n      <td>-0.161126</td>\n      <td>-0.307179</td>\n      <td>1.037244</td>\n      <td>-0.828024</td>\n    </tr>\n    <tr>\n      <th>1063</th>\n      <td>-0.100535</td>\n      <td>0.114242</td>\n      <td>-0.023548</td>\n      <td>-0.193086</td>\n      <td>0.122687</td>\n      <td>-0.161126</td>\n      <td>-0.307179</td>\n      <td>1.037244</td>\n      <td>-0.828024</td>\n    </tr>\n    <tr>\n      <th>1064</th>\n      <td>-0.241774</td>\n      <td>0.114242</td>\n      <td>0.025240</td>\n      <td>-0.327041</td>\n      <td>0.233197</td>\n      <td>-0.161126</td>\n      <td>-0.307179</td>\n      <td>1.037244</td>\n      <td>-0.828024</td>\n    </tr>\n    <tr>\n      <th>1065</th>\n      <td>-0.100535</td>\n      <td>0.114242</td>\n      <td>-0.096731</td>\n      <td>-0.193086</td>\n      <td>0.059538</td>\n      <td>-0.161126</td>\n      <td>-0.307179</td>\n      <td>1.037244</td>\n      <td>-0.828024</td>\n    </tr>\n    <tr>\n      <th>1066</th>\n      <td>-0.100535</td>\n      <td>0.114242</td>\n      <td>0.391153</td>\n      <td>-0.594950</td>\n      <td>0.596302</td>\n      <td>-0.161126</td>\n      <td>-0.307179</td>\n      <td>1.037244</td>\n      <td>-0.828024</td>\n    </tr>\n  </tbody>\n</table>\n<p>1067 rows × 9 columns</p>\n</div>"
     },
     "execution_count": 7,
     "metadata": {},
     "output_type": "execute_result"
    }
   ],
   "source": [
    "data.drop(columns=['FUELCONSUMPTION_COMB', 'FUELCONSUMPTION_HWY'], inplace=True)\n",
    "\n",
    "sc = StandardScaler()\n",
    "data = pd.DataFrame(\n",
    "    data=sc.fit_transform(data),\n",
    "    columns=data.columns\n",
    ")\n",
    "\n",
    "data"
   ],
   "metadata": {
    "collapsed": false,
    "pycharm": {
     "name": "#%%\n"
    }
   }
  },
  {
   "cell_type": "markdown",
   "source": [
    "## 5. Train and test split"
   ],
   "metadata": {
    "collapsed": false,
    "pycharm": {
     "name": "#%% md\n"
    }
   }
  },
  {
   "cell_type": "code",
   "execution_count": 8,
   "outputs": [],
   "source": [
    "input_columns = list(set(data.columns).difference({output_parameter}))\n",
    "\n",
    "x_train, x_test, y_train, y_test = train_test_split(\n",
    "    data[input_columns],\n",
    "    data[output_parameter],\n",
    "    train_size=0.7,\n",
    "    random_state=0\n",
    ")"
   ],
   "metadata": {
    "collapsed": false,
    "pycharm": {
     "name": "#%%\n"
    }
   }
  },
  {
   "cell_type": "markdown",
   "source": [
    "## 6. Developing regression model\n",
    "\n",
    "* $ h(x) = w_0 + w_1*x_1 + w_2*x_2 + \\cdots + w_n*x_n $\n",
    "\n",
    "* **_Loss function_**: $ L(h(x), y) = \\frac{1}{2} (h(x^{(i)})-y^{(i)})^2 $\n",
    "* **_Mean squared error(MSE)_**: $ J(w) = \\frac{1}{2m} \\sum \\limits_{i=0}^{m} (h(x^{(i)})-y^{(i)})^2 $\n",
    "\n",
    "* Prediction:\n",
    "\n",
    "$$\n",
    "     \\begin{bmatrix}\n",
    "         1 & x_{11} & \\cdots & x_{1n-1}\\\\\n",
    "         1 & x_{21} & \\cdots & x_{2n-1}\\\\\n",
    "         \\vdots & \\vdots & \\ddots & \\vdots\\\\\n",
    "         1 & x_{m1} & \\cdots & x_{mn-1}\n",
    "     \\end{bmatrix}\n",
    "     \\times\n",
    "     \\begin{bmatrix}\n",
    "         w_{0} \\\\\n",
    "         w_{1} \\\\\n",
    "         \\vdots \\\\\n",
    "         w_{n-1}\n",
    "     \\end{bmatrix}\n",
    "      =\n",
    "     \\begin{bmatrix}\n",
    "         w_0 + w_1 * x_{11} + w_2 * x_{12} + \\cdots + w_{n-1} * x_{1n-1}\\\\\n",
    "         h[1]\\\\\n",
    "         \\vdots \\\\\n",
    "         h[m-1]\n",
    "     \\end{bmatrix}\n",
    "  $$\n",
    "\n",
    "* Updating weights: $ w_i = w_i - \\alpha \\frac{\\partial J(w)}{\\partial w_i} $\n",
    "\n",
    "_Reference:_ http://ri4es.etf.rs/materijali/vezbe/IS_Linearna_regresija_(Python).pdf}\n"
   ],
   "metadata": {
    "collapsed": false,
    "pycharm": {
     "name": "#%% md\n"
    }
   }
  },
  {
   "cell_type": "code",
   "execution_count": 9,
   "outputs": [],
   "source": [
    "class LinearRegressionModel:\n",
    "    def __init__(self):\n",
    "        self.weights = None\n",
    "        self.inputs = None\n",
    "        self.outputs = None\n",
    "        self.mse_history = None\n",
    "        self.learning_rates = None\n",
    "        self.iterations_number = None\n",
    "\n",
    "    def calc_error_function(self):\n",
    "        difference = self.inputs.dot(self.weights) - self.outputs  # (h(i) - y(i)), h(i) = w0 + w1 * x1 + w2 * x2\n",
    "        loss = pow(difference, 2).reshape(-1, 1).flatten()  # calc loss function ->  (h(i) - y(i))^2\n",
    "        m = len(loss)\n",
    "        loss_sum = 0\n",
    "        for i in range(m):\n",
    "            loss_sum += loss[i]\n",
    "        mse = 1 / (2 * m) * loss_sum  # calc mean squared error\n",
    "        return mse\n",
    "\n",
    "    def calc_dj_dw(self):\n",
    "        difference = self.inputs.dot(self.weights) - self.outputs\n",
    "        m = len(self.inputs)\n",
    "        return 1 / m * self.inputs.T.dot(difference)\n",
    "\n",
    "    def update_weights(self):\n",
    "        alpha = self.learning_rates\n",
    "        self.weights = self.weights - alpha * self.calc_dj_dw()  # wi = wi - alpha * dj/dwi\n",
    "\n",
    "    def perform_gradient_descent(self):\n",
    "        self.mse_history = []\n",
    "        for i in range(self.iterations_number):\n",
    "            self.update_weights()\n",
    "            curr_cost = self.calc_error_function()\n",
    "            self.mse_history.append(curr_cost)\n",
    "\n",
    "    def predict(self, features):\n",
    "        features = features.copy(deep=True)\n",
    "        features.insert(0, 'w0', np.ones((len(features), 1)))\n",
    "        features = features.to_numpy()\n",
    "        return features.dot(self.weights).reshape(-1, 1).flatten()\n",
    "\n",
    "    def fit(self, features, target, learning_rates, iterations_number=100):\n",
    "        self.inputs = features.copy(deep=True)\n",
    "        dimension_of_weight_vector = len(features.columns) + 1\n",
    "        self.weights = np.ones(shape=dimension_of_weight_vector).reshape(-1, 1)\n",
    "        self.inputs.insert(0, 'w0', np.ones((len(features), 1)))\n",
    "        self.inputs = self.inputs.to_numpy()\n",
    "        self.outputs = target.to_numpy().reshape(-1, 1)\n",
    "        self.learning_rates = learning_rates\n",
    "        self.iterations_number = iterations_number\n",
    "        self.perform_gradient_descent()"
   ],
   "metadata": {
    "collapsed": false,
    "pycharm": {
     "name": "#%%\n"
    }
   }
  },
  {
   "cell_type": "markdown",
   "source": [
    "## 7. Evaluating the model"
   ],
   "metadata": {
    "collapsed": false,
    "pycharm": {
     "name": "#%% md\n"
    }
   }
  },
  {
   "cell_type": "code",
   "execution_count": 10,
   "outputs": [
    {
     "name": "stdout",
     "output_type": "stream",
     "text": [
      "Score [test]: 0.9821808914771754\n",
      "MAE [test]: 0.09504586784297023\n",
      "MSE [test]: 0.01761060042133482\n"
     ]
    }
   ],
   "source": [
    "lr = LinearRegressionModel()\n",
    "learning_rate = np.array([[0.3] for i in range(len(x_train.columns) + 1)])\n",
    "lr.fit(x_train, y_train, learning_rate, iterations_number=300)\n",
    "\n",
    "y_predicted = lr.predict(x_test)\n",
    "\n",
    "u = ((y_test - y_predicted) ** 2).sum()\n",
    "v = ((y_test - y_predicted.mean()) ** 2).sum()\n",
    "\n",
    "score = 1. - u / v\n",
    "print(f'Score [test]: {score}')\n",
    "\n",
    "print(f'MAE [test]: {mean_absolute_error(y_test, y_predicted)}')\n",
    "print(f'MSE [test]: {mean_squared_error(y_test, y_predicted)}')"
   ],
   "metadata": {
    "collapsed": false,
    "pycharm": {
     "name": "#%%\n"
    }
   }
  }
 ],
 "metadata": {
  "kernelspec": {
   "display_name": "Python 3",
   "language": "python",
   "name": "python3"
  },
  "language_info": {
   "codemirror_mode": {
    "name": "ipython",
    "version": 2
   },
   "file_extension": ".py",
   "mimetype": "text/x-python",
   "name": "python",
   "nbconvert_exporter": "python",
   "pygments_lexer": "ipython2",
   "version": "2.7.6"
  }
 },
 "nbformat": 4,
 "nbformat_minor": 0
}